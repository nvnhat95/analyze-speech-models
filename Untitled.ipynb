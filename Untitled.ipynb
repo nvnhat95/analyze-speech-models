{
 "cells": [
  {
   "cell_type": "code",
   "execution_count": 22,
   "id": "ff3d6d12",
   "metadata": {},
   "outputs": [],
   "source": [
    "import os, glob\n",
    "import soundfile as sf\n",
    "import numpy as np\n",
    "import pandas as pd\n",
    "import h5py\n",
    "import tqdm\n",
    "import IPython\n",
    "import fairseq\n",
    "import torch\n",
    "from matplotlib import pyplot as plt\n",
    "from sklearn.manifold import TSNE\n",
    "from sklearn import svm\n",
    "from sklearn import metrics\n",
    "import seaborn as sns\n",
    "import utils\n",
    "from fairseq.dataclass.utils import convert_namespace_to_omegaconf\n",
    "from fairseq.modules import Fp32LayerNorm,  TransposeLast\n",
    "import pytorch_lightning as pl\n",
    "import torch.nn as nn"
   ]
  },
  {
   "cell_type": "code",
   "execution_count": 23,
   "id": "d3486aaf",
   "metadata": {},
   "outputs": [],
   "source": [
    "class Feat2Feat(pl.LightningModule):\n",
    "    def __init__(self, in_channel=256, out_feature=128):\n",
    "        super().__init__()\n",
    "        self.linear_layers = torch.nn.ModuleList()\n",
    "        hidden_channel = in_channel\n",
    "        self.linear_layers.append(nn.Linear(in_features=in_channel, out_features=hidden_channel))\n",
    "        for i in range(2):\n",
    "            self.linear_layers.append(nn.Linear(in_features=hidden_channel, out_features=hidden_channel))\n",
    "        self.final_linear = nn.Linear(in_features=hidden_channel, out_features=out_feature)\n",
    "        \n",
    "        self.activation_func = torch.nn.ReLU()\n",
    "        \n",
    "        \n",
    "    def forward(self, x):\n",
    "        for i, layer in enumerate(self.linear_layers):\n",
    "            x = layer(x) + x\n",
    "            x = self.activation_func(x)\n",
    "        \n",
    "        x = self.final_linear(x)\n",
    "        \n",
    "        return x"
   ]
  },
  {
   "cell_type": "code",
   "execution_count": 78,
   "id": "ec0de4a9",
   "metadata": {},
   "outputs": [],
   "source": [
    "model = Feat2Feat(512, 768).cuda()"
   ]
  },
  {
   "cell_type": "code",
   "execution_count": 85,
   "id": "9d6bde00",
   "metadata": {},
   "outputs": [],
   "source": [
    "# checkpoint = torch.load(\"/mnt/scratch09/vnguyen/SpeakerRecognition/exp/tmp/checkpoints/epoch=36-step=5364.ckpt\")\n",
    "hf = h5py.File(\"/mnt/scratch09/vnguyen/SpeakerRecognition/outputs/extracted_features/wav2vec2_small/TIMIT_test.h5\", 'r')\n",
    "df = pd.read_csv(\"/mnt/scratch09/vnguyen/SpeakerRecognition/data/TIMIT_test.csv\")"
   ]
  },
  {
   "cell_type": "code",
   "execution_count": 80,
   "id": "7eef0c6f",
   "metadata": {},
   "outputs": [
    {
     "data": {
      "text/plain": [
       "<All keys matched successfully>"
      ]
     },
     "execution_count": 80,
     "metadata": {},
     "output_type": "execute_result"
    }
   ],
   "source": [
    "model.load_state_dict(checkpoint['state_dict'])"
   ]
  },
  {
   "cell_type": "code",
   "execution_count": 42,
   "id": "2a238a42",
   "metadata": {},
   "outputs": [],
   "source": [
    "!mv /mnt/scratch09/vnguyen/SpeakerRecognition/outputs/feat2feat/wav2vec2_small/cnn-encoder-error.h5 /mnt/scratch09/vnguyen/SpeakerRecognition/outputs/feat2feat/wav2vec2_small/cnn_encoder_error_train.h5"
   ]
  },
  {
   "cell_type": "code",
   "execution_count": 82,
   "id": "f1909868",
   "metadata": {},
   "outputs": [],
   "source": [
    "!rm -rf /mnt/scratch09/vnguyen/SpeakerRecognition/outputs/feat2feat/wav2vec2_small/cnn_encoder_error_test.h5"
   ]
  },
  {
   "cell_type": "code",
   "execution_count": 86,
   "id": "a920bea8",
   "metadata": {},
   "outputs": [],
   "source": [
    "hout = h5py.File(\"/mnt/scratch09/vnguyen/SpeakerRecognition/outputs/feat2feat/wav2vec2_small/cnn_encoder_error_test.h5\", 'w')"
   ]
  },
  {
   "cell_type": "code",
   "execution_count": 87,
   "id": "8e8d5900",
   "metadata": {},
   "outputs": [],
   "source": [
    "import torchaudio\n",
    "# transformer = torchaudio.transforms.MelSpectrogram(sample_rate=16000, n_fft=1024, win_length=720, hop_length=320)\n",
    "\n",
    "feat_in = 'cnn_output'\n",
    "feat_out = 'encoder_output'\n",
    "\n",
    "for i, row in df.iterrows():\n",
    "    key_in = row['wav_id'] + '-' + feat_in\n",
    "    key_out = row['wav_id'] + '-' + feat_out\n",
    "    features = hf[key_in][:]\n",
    "    with torch.no_grad():\n",
    "        pred = model(torch.tensor(features).cuda())\n",
    "        diff = pred.cpu().numpy() - hf[key_out][:]\n",
    "        hout.create_dataset(name=key_out, data=diff)\n",
    "hout.close()"
   ]
  },
  {
   "cell_type": "code",
   "execution_count": 71,
   "id": "e2db600c",
   "metadata": {},
   "outputs": [
    {
     "data": {
      "text/plain": [
       "array([[ 0.18760265,  0.19597238,  0.4132182 , ...,  0.29623666,\n",
       "         0.2521737 , -0.29260963],\n",
       "       [-0.06108914,  0.02278471, -0.00902695, ...,  0.2952789 ,\n",
       "         0.6248071 , -0.2813234 ],\n",
       "       [-0.05911512,  0.04213655,  0.02152432, ...,  0.29912993,\n",
       "         0.6175385 , -0.28398037],\n",
       "       ...,\n",
       "       [ 0.0036359 , -0.00586716,  0.21506296, ...,  0.19844064,\n",
       "         0.60485405, -0.11605246],\n",
       "       [-0.04414704,  0.00434542,  0.01885987, ...,  0.29016116,\n",
       "         0.6359349 , -0.27952406],\n",
       "       [ 0.32570258,  0.09383832,  0.30810487, ...,  0.35674322,\n",
       "         0.2538185 , -0.14667474]], dtype=float32)"
      ]
     },
     "execution_count": 71,
     "metadata": {},
     "output_type": "execute_result"
    }
   ],
   "source": [
    "features"
   ]
  },
  {
   "cell_type": "code",
   "execution_count": 72,
   "id": "a4944bfc",
   "metadata": {},
   "outputs": [
    {
     "data": {
      "text/plain": [
       "array([[ 0.00250155, -0.00966159, -0.00612373, ...,  0.00853509,\n",
       "        -0.00382528, -0.02455596],\n",
       "       [-0.010848  , -0.01951417,  0.00089338, ...,  0.00656117,\n",
       "         0.00143483, -0.00916419],\n",
       "       [-0.00299092, -0.00057096, -0.00745986, ...,  0.00927412,\n",
       "        -0.01053994, -0.03214316],\n",
       "       ...,\n",
       "       [ 0.00423075, -0.01344961,  0.0057536 , ..., -0.00133647,\n",
       "         0.00087205, -0.01811837],\n",
       "       [-0.00959727, -0.0059984 ,  0.00649665, ...,  0.00246625,\n",
       "        -0.00193869, -0.01098885],\n",
       "       [ 0.00972552,  0.0162667 , -0.00122207, ..., -0.01982652,\n",
       "        -0.0115924 , -0.01359041]], dtype=float32)"
      ]
     },
     "execution_count": 72,
     "metadata": {},
     "output_type": "execute_result"
    }
   ],
   "source": [
    "hf[key_out][:]"
   ]
  },
  {
   "cell_type": "code",
   "execution_count": 33,
   "id": "a520031d",
   "metadata": {},
   "outputs": [
    {
     "data": {
      "text/plain": [
       "array([[ 0.2550169 ,  0.07193729,  0.43718314, ...,  0.5358205 ,\n",
       "         0.28440067, -0.21044958],\n",
       "       [ 0.07654906,  0.13120219,  0.44204962, ...,  0.28140178,\n",
       "         0.2342612 , -0.19971497],\n",
       "       [ 0.18318653,  0.19171728,  0.55717504, ..., -0.01525378,\n",
       "         0.2879535 ,  0.20958944],\n",
       "       ...,\n",
       "       [ 0.18395099,  0.19168429,  0.5584028 , ..., -0.01493351,\n",
       "         0.2884831 ,  0.20827399],\n",
       "       [-0.08312055,  0.14251192,  0.15681204, ...,  0.12978798,\n",
       "         0.61423016, -0.42786285],\n",
       "       [ 0.1359564 ,  0.06289283,  0.2886348 , ...,  0.4319388 ,\n",
       "         0.16654636, -0.08482879]], dtype=float32)"
      ]
     },
     "execution_count": 33,
     "metadata": {},
     "output_type": "execute_result"
    }
   ],
   "source": [
    "hf[key_out][:]"
   ]
  }
 ],
 "metadata": {
  "kernelspec": {
   "display_name": "Python 3 (ipykernel)",
   "language": "python",
   "name": "python3"
  },
  "language_info": {
   "codemirror_mode": {
    "name": "ipython",
    "version": 3
   },
   "file_extension": ".py",
   "mimetype": "text/x-python",
   "name": "python",
   "nbconvert_exporter": "python",
   "pygments_lexer": "ipython3",
   "version": "3.8.1"
  }
 },
 "nbformat": 4,
 "nbformat_minor": 5
}
